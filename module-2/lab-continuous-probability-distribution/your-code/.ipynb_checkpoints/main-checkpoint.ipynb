{
 "cells": [
  {
   "cell_type": "markdown",
   "metadata": {},
   "source": [
    "# Before your start:\n",
    "\n",
    "    Read the README.md file\n",
    "    Comment as much as you can and use the resources (README.md file)\n",
    "    Happy learning!"
   ]
  },
  {
   "cell_type": "markdown",
   "metadata": {},
   "source": [
    "In this exercise, we  will generate random numbers from the continuous disributions we learned in the lesson. There are two ways to generate random numbers:\n",
    "\n",
    "1. Using the numpy library \n",
    "1. using the Scipy library \n",
    "\n",
    "Use either or both of the lbraries in this exercise."
   ]
  },
  {
   "cell_type": "markdown",
   "metadata": {},
   "source": [
    "## Uniform Distribution\n",
    "\n",
    "To generate uniform random numbers between any two given values using scipy, we can either use the following code or the code that we have\n",
    "discussed in class:"
   ]
  },
  {
   "cell_type": "code",
   "execution_count": 5,
   "metadata": {},
   "outputs": [
    {
     "name": "stdout",
     "output_type": "stream",
     "text": [
      "[2.35431617 2.44827294 2.35593089 2.7855442  2.20174959 2.03020429\n",
      " 2.28691287 2.90836428 2.52334    2.04019851]\n"
     ]
    }
   ],
   "source": [
    "from scipy.stats import uniform\n",
    "x = uniform.rvs(size=10)\n",
    "a = 2\n",
    "b = 3\n",
    "randoms  = a + (b-a)*x\n",
    "print(randoms)"
   ]
  },
  {
   "cell_type": "markdown",
   "metadata": {},
   "source": [
    "**Your task:**\n",
    "\n",
    "1. Based on the code above, write a function that generates uniformly distributed random numbers. There are several requirements for your function:\n",
    "    * It should accept 3 parameters: \n",
    "        * `bottom` - the lower boundary of the generated numbers\n",
    "        * `ceiling` - the upper boundary of the generated numbers\n",
    "        * `count` - how many numbers to generate\n",
    "    * It should return an array of uniformly distributed random numbers\n",
    "\n",
    "1. Call your function with 2 sets of params below:\n",
    "    * bottom=10, ceiling=15, count=100\n",
    "    * bottom=10, ceiling=60, count=1,000\n",
    "\n",
    "1. Plot the uniform distributions generated above using histograms, where x axis is the value and y axis is the count. Let the histogram's number of bins be 10.\n",
    "\n",
    "Your output should look like below:\n",
    "\n",
    "![uniform distribution](ud.png)"
   ]
  },
  {
   "cell_type": "code",
   "execution_count": 10,
   "metadata": {},
   "outputs": [],
   "source": [
    "# your code here\n",
    "def dis_uniforme(bottom,ceiling,count):\n",
    "    x = uniform.rvs(size=count)\n",
    "    a = bottom\n",
    "    b = ceiling\n",
    "    randoms  = a + (b-a)*x\n",
    "    return randoms\n",
    "\n",
    "x = dis_uniforme(10,15,100)\n",
    "x2 = dis_uniforme(10,60,1000)"
   ]
  },
  {
   "cell_type": "code",
   "execution_count": 63,
   "metadata": {},
   "outputs": [
    {
     "data": {
      "image/png": "[encoded data removed]",
      "text/plain": [
       "<Figure size 432x288 with 2 Axes>"
      ]
     },
     "metadata": {
      "needs_background": "light"
     },
     "output_type": "display_data"
    }
   ],
   "source": [
    "import matplotlib.pyplot as plt\n",
    "plt.subplot(1,2,1)\n",
    "plt.hist(x, bins = 10)\n",
    "plt.yticks([20*i for i in range(7)])\n",
    "plt.subplot(1,2,2)\n",
    "plt.hist(x2, bins = 10)\n",
    "plt.yticks([20*i for i in range(7)])\n",
    "plt.show;"
   ]
  },
  {
   "cell_type": "markdown",
   "metadata": {},
   "source": [
    "How are the two distributions different?"
   ]
  },
  {
   "cell_type": "code",
   "execution_count": 16,
   "metadata": {},
   "outputs": [],
   "source": [
    "# your answer below\n",
    "#Entre mayor numero de muestras, el ancho de calse disminuye y el ancho de cada intervalo crece."
   ]
  },
  {
   "cell_type": "markdown",
   "metadata": {},
   "source": [
    "## Normal Distribution\n",
    "\n",
    "1. In the same way in the Uniform Distribution challenge, write a function that generates normally distributed random numbers.\n",
    "1. Generate 1,000 normally distributed numbers with the average of 10 and standard deviation of 1\n",
    "1. Generate 1,000 normally distributed numbers with the average of 10 and standard deviation of 50\n",
    "2. Plot the distributions of the data generated.\n",
    "\n",
    "Expected output:\n",
    "\n",
    "![normal distribution](nd.png)"
   ]
  },
  {
   "cell_type": "code",
   "execution_count": 15,
   "metadata": {},
   "outputs": [],
   "source": [
    "from scipy.stats import norm"
   ]
  },
  {
   "cell_type": "code",
   "execution_count": 20,
   "metadata": {},
   "outputs": [
    {
     "data": {
      "text/plain": [
       "array([10.71208589, 10.36028332,  9.78358723,  9.93762577, 11.55299829,\n",
       "       11.46313483, 10.70845076, 12.08942358, 10.3041931 ,  9.78573623,\n",
       "        9.89104172, 11.51897744, 10.53320316,  9.49943597, 10.68351771,\n",
       "        8.63564488, 10.36250994,  8.34165768,  9.71221142, 11.58178262,\n",
       "       11.88548611, 12.07597169, 11.45907691,  9.22453286,  9.90166541,\n",
       "        9.17643146, 11.16012896,  9.39561344, 10.27324825, 10.68611386,\n",
       "       11.40672492, 12.55121408,  9.84071949, 10.19113644, 10.2203822 ,\n",
       "       10.43402679,  8.04451143,  9.70764779,  9.79933321,  9.99552201,\n",
       "       10.46657417,  9.7803939 ,  8.53931628, 10.2587223 , 10.48164119,\n",
       "        9.87407151, 10.42372821,  8.68541833, 10.04388543, 10.80434938,\n",
       "       10.59593339, 10.26737922, 11.13408546,  8.76808192,  9.42008462,\n",
       "        9.19525387,  8.42703007,  9.43673531, 10.79938323, 10.19988408,\n",
       "        9.87575341,  9.77196384, 10.35407196,  9.60858717,  9.78396986,\n",
       "        8.70850997,  9.58171152,  8.77376037, 10.00099252, 10.77110028,\n",
       "       11.62776119, 10.66653592, 11.12618986, 12.9964195 ,  9.8439519 ,\n",
       "       10.08541034,  8.84884291, 10.83348905,  9.02692768,  8.19451663,\n",
       "       10.175302  , 10.58573971, 11.59251571, 10.61458145, 10.02033463,\n",
       "       10.75044753,  9.58535282,  9.81009274,  9.27708035, 10.28780628,\n",
       "       10.17083045,  9.85583473, 10.02831116, 10.36309919,  9.26101479,\n",
       "       11.43381067,  8.68526539,  9.79877274,  9.13166064, 10.62963154,\n",
       "        8.97466566,  9.99445149, 10.36590118, 11.0330826 ,  9.59782134,\n",
       "        9.12974451, 10.63129823, 10.8973986 , 10.47786   ,  8.97205408,\n",
       "       10.87689799,  9.81507424,  9.72435857, 12.28499865,  9.83660768,\n",
       "       10.77384534,  9.10399094,  9.18282175, 10.02407579, 10.00764348,\n",
       "       11.43929645,  9.66766892,  9.41791449,  9.2328368 ,  9.80240102,\n",
       "        9.46246366, 10.07827398, 11.13611019, 10.18021642, 11.02860901,\n",
       "        9.52623526, 11.18085563,  8.98576229, 10.13686774, 11.39328838,\n",
       "       10.86665969,  9.78851106,  9.89957743, 11.172225  , 10.39062463,\n",
       "       10.18410339,  9.5817479 ,  8.57084173, 11.99982374, 10.14765318,\n",
       "        9.45234946,  9.65815173,  9.81764456, 10.01014249,  9.66634459,\n",
       "       10.03059175, 11.00505126,  9.33735523, 10.4235394 , 10.77787173,\n",
       "        9.76829653, 10.5011344 , 10.97436779,  9.75615555, 10.48275926,\n",
       "        9.92877956,  9.04252124,  8.07575777, 11.30788517, 10.60973011,\n",
       "       10.24555157,  8.98511515,  8.94810837, 11.54633728,  8.84471143,\n",
       "        9.13784579,  9.20114484,  8.6383839 , 10.27388359,  9.93816332,\n",
       "        8.8075335 ,  9.68724083, 10.7240666 ,  9.37208747,  7.97370715,\n",
       "       10.09814633, 10.41295533, 10.38188899, 11.42128403,  9.09746327,\n",
       "        9.98652339,  7.79055276, 10.38748556,  9.9386501 ,  9.87546066,\n",
       "        8.90026506, 10.93668404,  9.15544817,  9.08948941,  9.99519262,\n",
       "        9.78905918, 10.29176559, 10.50957079,  9.69575056,  9.36596933,\n",
       "       10.09091385, 10.15922975, 11.93566322,  7.89983257, 10.4276477 ,\n",
       "       10.1122215 , 10.23211412,  8.09708886, 10.9247159 , 11.1244621 ,\n",
       "       12.1830587 ,  5.88387505,  7.65052673,  9.27069635, 10.47027673,\n",
       "       11.9388822 , 11.67088171, 10.03348841, 10.63211739, 11.85292767,\n",
       "       11.17439496, 10.2483944 ,  8.98522406,  9.84213201, 11.32542977,\n",
       "        8.21582139,  9.52933622, 10.20300605,  9.03335382, 10.23111998,\n",
       "       10.59707524, 10.12917752, 10.18011464, 10.93468399,  8.32030754,\n",
       "        8.57898791,  9.52880264,  9.05171683, 10.81155861,  9.36760868,\n",
       "       10.02887837,  8.48028264, 11.06162943, 10.46679961,  9.62819679,\n",
       "        9.60073653,  7.65265465,  9.97027819, 10.41990194,  9.1580562 ,\n",
       "        8.97708178,  9.54621693,  9.85730634,  8.46768177,  8.79781614,\n",
       "       10.54982895,  9.36988313, 10.63049112, 10.57373119,  9.54787856,\n",
       "       10.3253794 ,  8.27137697, 11.414473  , 10.5106323 ,  8.8040672 ,\n",
       "        9.14049845,  8.9425108 , 10.8169833 ,  8.94770629, 11.04353273,\n",
       "        9.98174022, 10.35551687,  9.60112785, 12.16966022, 11.06327563,\n",
       "        8.95489282, 10.25557801, 10.80210418,  9.95582582,  9.51555403,\n",
       "       10.74388139, 10.44351682, 11.15810761, 10.44182084,  7.99794346,\n",
       "        9.03254489, 10.58648764,  8.98854783,  9.74255147, 10.70571063,\n",
       "        8.48786201, 10.76392903,  9.50715745,  9.03069847,  9.23091289,\n",
       "        9.27479782, 12.17304671,  9.75478331,  9.96309283,  9.98389437,\n",
       "        8.4511812 ,  8.50992642,  8.85251276, 11.00341859,  9.73579008,\n",
       "        8.57249019,  9.10081738, 12.20793612, 10.34570866, 10.35268652,\n",
       "       10.1011328 , 10.77558125, 10.35669818,  8.29319917,  8.85000775,\n",
       "        9.88525861,  9.4875715 , 11.17489991,  8.91534132,  8.94476372,\n",
       "        9.64117765,  9.19625599, 10.26576035,  9.66320247, 10.2816281 ,\n",
       "        8.27982244,  9.90815721,  8.43933883,  8.71740399, 10.83784149,\n",
       "       10.69136948, 10.0835537 , 10.54276944,  8.93076188,  9.23440407,\n",
       "        9.59685931,  9.63628135,  9.47871886,  7.33618561, 10.07188392,\n",
       "       10.07738557, 10.70384403, 13.18143843, 10.44940952,  9.24454486,\n",
       "       10.10711308,  9.75655432,  9.72908269, 10.34881139, 10.3504375 ,\n",
       "       10.13337736,  9.67197604, 11.58546124,  8.66974823, 10.27410322,\n",
       "        9.67659581,  9.93983481, 11.39594431,  8.70603376,  9.98339036,\n",
       "        9.38889791, 10.30346164,  9.46138513,  7.31777205, 10.59979196,\n",
       "        8.90390246, 10.39035717, 10.34003288,  9.38030954, 10.60213434,\n",
       "       10.0893296 ,  9.77658342, 10.0976852 , 10.70826211,  8.90348493,\n",
       "        9.76260395,  8.74265131,  8.48133385, 10.12911022, 10.02309091,\n",
       "       11.32308492,  9.14270614,  9.63138748,  8.94148038,  9.62070304,\n",
       "       12.82232988, 10.66383167,  9.6604492 , 10.1043155 ,  8.3459808 ,\n",
       "       10.05977989,  8.86613127,  8.54692132,  9.77555234, 10.59347033,\n",
       "        8.91869421,  8.83950856,  9.32875892,  9.94504943,  9.205432  ,\n",
       "        7.92815052, 11.71063535,  9.94166656, 10.37483389,  8.723663  ,\n",
       "       10.03921005, 10.04999062, 10.17129338, 11.06701755, 10.01666434,\n",
       "        9.48688585,  8.72722424, 12.09274861,  9.09322024,  9.92631226,\n",
       "       10.24410316, 10.16478313, 11.49051055, 11.16928804, 10.6165322 ,\n",
       "       10.66709089,  9.48715631,  9.94542213,  9.55090037, 10.2763743 ,\n",
       "       10.14803904, 11.69181198, 10.60450544, 10.10994894, 10.40106518,\n",
       "        9.22784898,  8.20807866, 10.2127791 ,  9.11573516,  8.83902335,\n",
       "        9.67842654, 10.01848316,  9.11817777,  9.90572458, 10.07894673,\n",
       "       10.42630064,  7.98713794, 10.36832491, 10.78005389,  7.98309181,\n",
       "        8.53609853,  9.99495198,  8.32517286, 11.04662435, 10.06788325,\n",
       "       11.10863159,  8.6733781 , 10.42478039,  9.94777273,  9.21270031,\n",
       "       11.50419547,  9.3326586 , 10.54907072, 11.16560327,  9.64058014,\n",
       "        7.22585088, 10.2278067 ,  9.91965458,  9.05227826,  9.13289878,\n",
       "        9.35633982,  9.96153271, 11.20636407,  9.92048883, 10.64397188,\n",
       "       10.16715042,  9.48571765,  9.6173275 , 11.69104787, 10.8729246 ,\n",
       "        8.70544022, 10.60387136,  8.69101359,  9.01180723,  9.39213926,\n",
       "       11.22910196, 10.44035296,  9.84478507,  9.95295264,  9.90377625,\n",
       "        8.32283031, 11.77149193, 11.75138562,  9.28149297, 10.81452267,\n",
       "        9.43158173,  9.77191513, 10.468589  , 12.0210745 , 10.54639122,\n",
       "        9.92481611,  9.79641395,  8.55225728,  9.05837792,  8.71405565,\n",
       "       10.03579512,  8.99351347,  9.44662204,  8.86967843, 10.35270663,\n",
       "        9.14719409,  8.89728034,  8.98479064,  9.46551196,  8.26818379,\n",
       "        8.83148151,  9.12824985, 10.874231  , 10.33528767,  9.5388134 ,\n",
       "        9.19956684, 11.35105154,  9.75737907, 10.61241586,  9.16553547,\n",
       "       10.37868525, 10.19175102, 10.93275389,  9.11988078, 10.96499212,\n",
       "        9.28954249,  8.11190271, 11.41052338, 10.9776553 ,  9.31606814,\n",
       "        9.83557124, 10.30739653, 10.46277609, 10.03578944, 10.53662618,\n",
       "        9.65573191, 10.30028345,  9.20025725, 10.31230289,  8.71095614,\n",
       "       11.71902498, 10.86697515,  8.59849418, 10.59582637,  9.70798713,\n",
       "       11.06739813,  7.82918657,  8.77936872, 10.56918136, 11.73489963,\n",
       "       10.31950784,  9.78598505,  9.17335491,  9.3358786 ,  8.90019149,\n",
       "       10.00363333, 10.29958499,  9.53489311,  8.91283143,  9.91715311,\n",
       "       11.94263254,  8.35655922,  9.48035985, 10.72895393,  8.95912595,\n",
       "       11.799369  ,  9.67953741,  9.25221787,  9.61833147,  9.31908987,\n",
       "       10.37749159, 10.12147365, 11.29414508, 10.00201136, 11.98629201,\n",
       "       10.78666047,  9.29281126, 11.27687663,  8.35006679,  9.22136583,\n",
       "        9.97603898, 10.13778366,  9.63755506,  9.11178232, 11.41721575,\n",
       "        8.30231474, 11.08361761,  9.61760836,  9.22869699, 12.34029984,\n",
       "       10.04092039, 11.21546565,  9.36779938,  9.0380008 , 10.29115095,\n",
       "        9.41889862,  9.53303722,  8.42728369, 10.95610172,  9.45614709,\n",
       "        9.67298145, 10.70079627,  8.9339028 ,  9.45795112, 10.48491151,\n",
       "        9.96004047,  9.37368332,  9.25553772, 10.12220084,  9.34840864,\n",
       "       11.00898727,  9.31537045,  9.63366231, 11.16265631, 10.07087452,\n",
       "       10.53543617, 11.47673371, 10.21295234,  8.92057323, 10.81304121,\n",
       "        9.06441951, 10.98072292,  9.70502967, 10.98799553, 11.76482342,\n",
       "        9.18471515,  9.12582746, 11.25426477, 10.81634434, 10.96714603,\n",
       "        8.52394957,  9.21573184, 11.07653079, 11.26731415, 11.78940636,\n",
       "       10.5211576 , 10.26226601,  9.7408365 , 11.25097159, 10.6220908 ,\n",
       "        8.84835176, 10.49605455,  8.77169325,  9.75097319, 10.42631175,\n",
       "        9.71747876,  8.92893659,  9.2472162 , 10.10850192, 10.53963642,\n",
       "        9.68621466,  8.02518871, 10.05412069,  9.30183681, 12.51932017,\n",
       "        8.37610264, 10.61671353, 10.59957601, 10.29961056, 10.42595643,\n",
       "       10.54703638,  8.62896796, 10.67159211,  8.30869585,  9.06638017,\n",
       "        8.48542413,  9.75811221,  9.18215241, 11.0752255 ,  9.4332147 ,\n",
       "        9.97930052, 11.37355766, 10.14950129,  9.53115478,  9.7427532 ,\n",
       "        9.02123503,  8.15662132, 10.46427726, 10.67437994, 11.51466554,\n",
       "        9.59653537, 10.72986645, 10.21252096,  7.76519021, 10.36185012,\n",
       "        9.01879384,  9.12942794, 10.05304088, 10.3962209 , 11.38567387,\n",
       "        9.11062576,  8.29529217, 10.69951408,  9.8952106 ,  8.94975383,\n",
       "        8.37036798,  8.28793218, 10.70236683, 10.69342073,  9.97174451,\n",
       "       10.40997368, 10.26306081, 12.03036107, 10.37047696, 10.15588766,\n",
       "        9.84756033,  9.67874731, 10.45798482, 11.31241552,  8.63768606,\n",
       "        8.33221456, 10.68321205,  9.50271915, 10.94661286,  9.3152223 ,\n",
       "        8.90265243,  9.84880858,  8.69567076,  9.89569417,  9.62443446,\n",
       "        7.77483845,  8.22640747,  8.75144792,  8.96399906,  9.16600576,\n",
       "        9.66314452,  9.57840589,  9.91975715, 10.25863721,  8.60975155,\n",
       "       10.22517345,  9.14976931,  9.59562958,  9.89963956,  8.89449332,\n",
       "       10.16114587, 10.66403676, 10.56291533, 10.47057277, 10.8917613 ,\n",
       "       11.65590118,  9.02675174, 10.63052506, 10.19283324, 11.97424225,\n",
       "       10.63287908, 11.93262153,  9.63607011, 11.60856051,  9.50096644,\n",
       "        9.40787493,  9.84227183,  8.89885915,  9.14753754,  9.44408878,\n",
       "       12.2941835 , 10.43034244, 11.40550763, 11.16688858,  9.93578966,\n",
       "        9.33082646, 10.33175476, 10.53789273, 10.03296174, 11.62164202,\n",
       "       10.04018701,  9.71327503,  9.32805486,  9.40371028,  7.43361362,\n",
       "       11.36658769,  9.33088021,  8.65531629,  9.28273423, 10.35286603,\n",
       "       10.0971741 , 11.33511818, 11.08161459,  9.21626087,  9.27287974,\n",
       "        9.15555039, 10.40064958, 10.77915343, 10.32768487, 10.80513791,\n",
       "       11.48205055,  8.95299793,  9.06702113, 11.17749082, 11.48187023,\n",
       "       10.03210378,  9.56602646, 10.81148398,  9.57885793, 10.2341414 ,\n",
       "        9.69048246, 10.93278103, 10.46505029,  8.46328249, 10.21923669,\n",
       "       10.05115644,  9.1455492 ,  8.89745248, 11.49135154,  9.94090877,\n",
       "        8.41022752, 11.06161661, 11.04106288, 10.23823432, 11.09692771,\n",
       "       11.96034226,  8.42984957, 10.42147886,  9.5702075 , 11.16808508,\n",
       "        8.69133579, 11.55262487,  9.51654825, 10.75802432,  8.28789889,\n",
       "       10.78514309, 10.95126681,  9.18515115, 11.39055321,  7.54252612,\n",
       "       10.32348797,  9.73605243, 10.54506049, 11.00369581, 11.41069969,\n",
       "        9.40385045,  9.46755378, 10.25775898,  9.87833184,  9.2332477 ,\n",
       "        9.86167233, 10.00000198,  9.26211891, 11.02314753,  8.84467002,\n",
       "       11.35146126, 11.72442117,  9.8845578 , 10.52488274,  9.2079616 ,\n",
       "        9.40985391,  8.97324149, 11.48582804,  9.44719938, 11.32317983,\n",
       "        9.39454174,  8.19405895, 10.40023329, 11.83473761,  9.44495443,\n",
       "        8.14120954,  9.94289497, 11.16450936, 12.32587479,  9.0692677 ,\n",
       "       10.48499319, 10.19328417, 10.40901461, 11.49949024,  8.62433678,\n",
       "        8.86533958,  8.40919049,  9.21993043,  9.3343235 , 10.49009094,\n",
       "        8.97169758,  9.06312282,  9.46319179, 10.86947266, 11.0413999 ,\n",
       "        8.5995722 ,  9.35645819,  9.59764404, 10.68740026,  9.2853275 ,\n",
       "        9.12489746, 10.1941506 , 12.08626821, 10.70744442,  9.47109694,\n",
       "        9.05710428, 10.25591286,  9.54808895, 10.87659816, 10.32885951,\n",
       "       10.51434122, 11.27753601, 11.72610727, 10.45085669,  9.84539323,\n",
       "        9.85627394, 10.18748077,  8.78906734, 11.17528668, 10.15489932,\n",
       "       10.9289464 , 11.80981311,  9.3908117 ,  9.0382339 , 10.26008398,\n",
       "        9.72505033,  9.43692006, 10.3936134 , 10.58493847,  8.31522827,\n",
       "       10.08600725,  7.91591138, 10.35084232,  9.68966079, 12.12164461,\n",
       "        8.89789503,  9.85744994, 11.94596736, 10.58370707, 10.27480349,\n",
       "        9.82801984,  9.40775885,  7.84148919, 10.86428355, 10.443489  ,\n",
       "        9.50570763, 10.18286158,  9.70295367, 10.34943855,  9.70690981,\n",
       "        9.12818701,  9.62000225, 12.07125254, 10.16617648,  8.83996814,\n",
       "        8.24564406, 10.18598657,  8.67713328,  9.49107722, 10.37806914,\n",
       "        9.90855217,  9.35732625,  9.60642905,  8.67202263,  9.81153753,\n",
       "       10.26741794,  9.61118328,  9.25990473,  9.51910714,  9.23863354,\n",
       "        9.31549167, 10.21142131,  9.34517613, 10.11121892,  9.31442254,\n",
       "       10.4593555 , 10.38105469, 10.81712517,  9.51313315,  9.89464742,\n",
       "       11.42767467,  9.65809623, 10.14059291,  9.27652842,  9.98689602,\n",
       "        8.87601745, 11.43398721,  9.5921769 , 10.37934879,  9.41797277,\n",
       "        9.07192052,  8.62658448,  9.42842634,  9.31427765,  8.96799296,\n",
       "        8.85328573, 11.5661544 ,  8.77471544, 10.37668278,  8.14313735,\n",
       "       11.03762474,  9.62660304,  9.73612221,  8.28578109,  9.99928701,\n",
       "        9.43786749, 10.00451933, 10.52864112,  9.76425362,  8.45238041,\n",
       "       10.2633427 ,  9.71998617,  9.40360296,  9.98457117,  8.6933124 ,\n",
       "       12.59263747, 10.18330936, 11.09011064, 10.3106724 ,  9.9525121 ])"
      ]
     },
     "execution_count": 20,
     "metadata": {},
     "output_type": "execute_result"
    }
   ],
   "source": [
    "def dis_normal(average,std,count):\n",
    "    return norm.rvs(average,std,count)\n",
    "\n",
    "aleatorios_1 = dis_normal(10,1,1000)\n",
    "aleatorios_1 = dis_normal(10,50,1000)\n"
   ]
  },
  {
   "cell_type": "code",
   "execution_count": 13,
   "metadata": {},
   "outputs": [],
   "source": [
    "def normal(average,std,count):\n",
    "    return norm.rvs(average,std,count)\n",
    "nor=normal(10,1,1000)\n",
    "nor2=normal(10,50,1000)"
   ]
  },
  {
   "cell_type": "code",
   "execution_count": 64,
   "metadata": {},
   "outputs": [
    {
     "data": {
      "image/png": "[encoded data removed]",
      "text/plain": [
       "<Figure size 432x288 with 2 Axes>"
      ]
     },
     "metadata": {
      "needs_background": "light"
     },
     "output_type": "display_data"
    }
   ],
   "source": [
    "plt.subplot(1,2,1)\n",
    "plt.hist(nor, bins = 50)\n",
    "plt.subplot(1,2,2)\n",
    "plt.hist(nor2, bins = 50)\n",
    "plt.show;"
   ]
  },
  {
   "cell_type": "markdown",
   "metadata": {},
   "source": [
    "How are the two distributions different?"
   ]
  },
  {
   "cell_type": "code",
   "execution_count": 66,
   "metadata": {},
   "outputs": [],
   "source": [
    "# your answer below\n",
    "#Que entre mayor sea la desviciacin estandar el ancho de los rangos del eje x crecen."
   ]
  },
  {
   "cell_type": "markdown",
   "metadata": {},
   "source": [
    "## Normal Distribution of Real Data\n",
    "\n",
    "In this challenge we are going to take a look the real data. We will use vehicles.csv file for this exercise"
   ]
  },
  {
   "cell_type": "markdown",
   "metadata": {},
   "source": [
    "First import vehicles.csv.\n",
    "Then plot the histograms for the following variables:\n",
    "\n",
    "1. Fuel Barrels/Year"
   ]
  },
  {
   "cell_type": "code",
   "execution_count": 67,
   "metadata": {},
   "outputs": [],
   "source": [
    "# your code heredef normal(average,std,count):\n",
    "import pandas as pd\n",
    "vehiculos = pd.read_csv(\"vehicles.csv\")"
   ]
  },
  {
   "cell_type": "code",
   "execution_count": 69,
   "metadata": {},
   "outputs": [
    {
     "data": {
      "text/plain": [
       "Index(['Make', 'Model', 'Year', 'Engine Displacement', 'Cylinders',\n",
       "       'Transmission', 'Drivetrain', 'Vehicle Class', 'Fuel Type',\n",
       "       'Fuel Barrels/Year', 'City MPG', 'Highway MPG', 'Combined MPG',\n",
       "       'CO2 Emission Grams/Mile', 'Fuel Cost/Year'],\n",
       "      dtype='object')"
      ]
     },
     "execution_count": 69,
     "metadata": {},
     "output_type": "execute_result"
    }
   ],
   "source": [
    "vehiculos.columns"
   ]
  },
  {
   "cell_type": "code",
   "execution_count": 72,
   "metadata": {},
   "outputs": [
    {
     "data": {
      "image/png": "[encoded data removed]",
      "text/plain": [
       "<Figure size 432x288 with 1 Axes>"
      ]
     },
     "metadata": {
      "needs_background": "light"
     },
     "output_type": "display_data"
    }
   ],
   "source": [
    "plt.hist(vehiculos[\"Fuel Barrels/Year\"],bins=40)\n",
    "plt.show;"
   ]
  },
  {
   "cell_type": "markdown",
   "metadata": {},
   "source": [
    "2. CO2 Emission Grams/Mile "
   ]
  },
  {
   "cell_type": "code",
   "execution_count": 73,
   "metadata": {},
   "outputs": [
    {
     "data": {
      "image/png": "[encoded data removed]",
      "text/plain": [
       "<Figure size 432x288 with 1 Axes>"
      ]
     },
     "metadata": {
      "needs_background": "light"
     },
     "output_type": "display_data"
    }
   ],
   "source": [
    "# your code here\n",
    "plt.hist(vehiculos[\"CO2 Emission Grams/Mile\"],bins=40)\n",
    "plt.show;"
   ]
  },
  {
   "cell_type": "markdown",
   "metadata": {},
   "source": [
    "3. Combined MPG"
   ]
  },
  {
   "cell_type": "code",
   "execution_count": 74,
   "metadata": {},
   "outputs": [
    {
     "data": {
      "image/png": "[encoded data removed]",
      "text/plain": [
       "<Figure size 432x288 with 1 Axes>"
      ]
     },
     "metadata": {
      "needs_background": "light"
     },
     "output_type": "display_data"
    }
   ],
   "source": [
    "# your code here\n",
    "plt.hist(vehiculos[\"Combined MPG\"],bins=40)\n",
    "plt.show;"
   ]
  },
  {
   "cell_type": "markdown",
   "metadata": {},
   "source": [
    "Which one(s) of the variables are nearly normally distributed? How do you know?"
   ]
  },
  {
   "cell_type": "code",
   "execution_count": null,
   "metadata": {},
   "outputs": [],
   "source": [
    "# your answer here\n",
    "#Aparentemente es la de Fuel Barrel/Year,"
   ]
  },
  {
   "cell_type": "markdown",
   "metadata": {},
   "source": [
    "## Exponential Distribution"
   ]
  },
  {
   "cell_type": "markdown",
   "metadata": {},
   "source": [
    "1. Using `numpy.random.exponential`, create a function that returns a list of numbers exponentially distributed with the mean of 10. \n",
    "\n",
    "1. Use the function to generate two number sequences with the size of 1 and 100.\n",
    "\n",
    "1. Plot the distributions as histograms with the nubmer of bins as 100.\n",
    "\n",
    "Your output should look like below:\n",
    "\n",
    "![exponential distribution](ed.png)"
   ]
  },
  {
   "cell_type": "code",
   "execution_count": 75,
   "metadata": {},
   "outputs": [
    {
     "data": {
      "image/png": "[encoded data removed]",
      "text/plain": [
       "<Figure size 432x288 with 2 Axes>"
      ]
     },
     "metadata": {
      "needs_background": "light"
     },
     "output_type": "display_data"
    }
   ],
   "source": [
    "# your code here\n",
    "import numpy as np\n",
    "def exponencial(media):\n",
    "    return np.random.exponential(media,1000)\n",
    "ex=exponencial(1)\n",
    "ex2=exponencial(100)\n",
    "plt.subplot(1,2,1)\n",
    "plt.hist(ex, bins=100)\n",
    "plt.subplot(1,2,2)\n",
    "plt.hist(ex2, bins=100)\n",
    "plt.show;"
   ]
  },
  {
   "cell_type": "markdown",
   "metadata": {},
   "source": [
    "How are the two distributions different?"
   ]
  },
  {
   "cell_type": "code",
   "execution_count": 76,
   "metadata": {},
   "outputs": [],
   "source": [
    "# your answer here\n",
    "#Entre mas grande se el valor de la media el rango del eje x se expande. "
   ]
  },
  {
   "cell_type": "markdown",
   "metadata": {},
   "source": [
    "## Exponential Distribution of Real Data\n",
    "\n",
    "Suppose that the amount of time one spends in a bank is exponentially distributed with mean as 10 minutes (i.e. λ = 1/10). What is the probability that a customer will spend less than fifteen minutes in the bank? \n",
    "\n",
    "Write a code in python to solve this problem"
   ]
  },
  {
   "cell_type": "code",
   "execution_count": 82,
   "metadata": {},
   "outputs": [
    {
     "name": "stdout",
     "output_type": "stream",
     "text": [
      "La probabilidad de que tarde menos de 15 minutos es: 0.7768698398515702\n"
     ]
    }
   ],
   "source": [
    "# your answer here\n",
    "# Hint: This is same as saying P(x<15)\n",
    "from scipy.stats import expon\n",
    "prob=expon.cdf(15,0,10)\n",
    "print(f'La probabilidad de que tarde menos de 15 minutos es: {prob}')"
   ]
  },
  {
   "cell_type": "code",
   "execution_count": 83,
   "metadata": {},
   "outputs": [
    {
     "name": "stdout",
     "output_type": "stream",
     "text": [
      "0.778\n"
     ]
    }
   ],
   "source": [
    "rand=np.random.exponential(10,10000)\n",
    "cont=0\n",
    "for i in rand:\n",
    "    if i<=15:\n",
    "        cont+=1\n",
    "print(cont/10000)"
   ]
  },
  {
   "cell_type": "markdown",
   "metadata": {},
   "source": [
    "What is the probability that the customer will spend more than 15 minutes"
   ]
  },
  {
   "cell_type": "code",
   "execution_count": 84,
   "metadata": {},
   "outputs": [
    {
     "name": "stdout",
     "output_type": "stream",
     "text": [
      "La probabilidad de que tarde menos de 15 minutos es: 0.2231301601484298\n"
     ]
    }
   ],
   "source": [
    "# your answer here\n",
    "print(f'La probabilidad de que tarde menos de 15 minutos es: {1-prob}')"
   ]
  },
  {
   "cell_type": "code",
   "execution_count": null,
   "metadata": {},
   "outputs": [],
   "source": []
  }
 ],
 "metadata": {
  "kernelspec": {
   "display_name": "Python 3",
   "language": "python",
   "name": "python3"
  },
  "language_info": {
   "codemirror_mode": {
    "name": "ipython",
    "version": 3
   },
   "file_extension": ".py",
   "mimetype": "text/x-python",
   "name": "python",
   "nbconvert_exporter": "python",
   "pygments_lexer": "ipython3",
   "version": "3.7.6"
  }
 },
 "nbformat": 4,
 "nbformat_minor": 2
}
