{
 "cells": [
  {
   "cell_type": "code",
   "execution_count": 2,
   "metadata": {},
   "outputs": [
    {
     "name": "stdout",
     "output_type": "stream",
     "text": [
      "Collecting pathos\n",
      "  Downloading pathos-0.2.6.zip (219 kB)\n",
      "Collecting ppft>=1.6.6.2\n",
      "  Downloading ppft-1.6.6.2.zip (106 kB)\n",
      "Collecting dill>=0.3.2\n",
      "  Downloading dill-0.3.2.zip (177 kB)\n",
      "Collecting pox>=0.2.8\n",
      "  Downloading pox-0.2.8.zip (128 kB)\n",
      "Collecting multiprocess>=0.70.10\n",
      "  Downloading multiprocess-0.70.10.zip (2.4 MB)\n",
      "Requirement already satisfied: six>=1.7.3 in c:\\users\\tomaas\\anaconda3\\lib\\site-packages (from ppft>=1.6.6.2->pathos) (1.14.0)\n",
      "Building wheels for collected packages: pathos, ppft, dill, pox, multiprocess\n",
      "  Building wheel for pathos (setup.py): started\n",
      "  Building wheel for pathos (setup.py): finished with status 'done'\n",
      "  Created wheel for pathos: filename=pathos-0.2.6-py3-none-any.whl size=77746 sha256=a2b54c4ef704545541d3fd46942cf2ace80b3b1de77efdccbaec124f6e7db88c\n",
      "  Stored in directory: c:\\users\\tomaas\\appdata\\local\\pip\\cache\\wheels\\34\\c0\\d9\\580a0af39a46bc51b0ffe4ad8bc09b4ad4a99865d64b3d379d\n",
      "  Building wheel for ppft (setup.py): started\n",
      "  Building wheel for ppft (setup.py): finished with status 'done'\n",
      "  Created wheel for ppft: filename=ppft-1.6.6.2-py3-none-any.whl size=64749 sha256=de557c3c4a04c8cd3bb3fe703f189496549e5d8dcafe685aafae18fac3558719\n",
      "  Stored in directory: c:\\users\\tomaas\\appdata\\local\\pip\\cache\\wheels\\b0\\6d\\96\\a352a1cb50c4a197c05ac0ac95c4eaeed92874b8737497af34\n",
      "  Building wheel for dill (setup.py): started\n",
      "  Building wheel for dill (setup.py): finished with status 'done'\n",
      "  Created wheel for dill: filename=dill-0.3.2-py3-none-any.whl size=78977 sha256=1fafc459b4a1d566d2cf1ab1ca87503ed4ff854429c2f05c29b2e872520f4b79\n",
      "  Stored in directory: c:\\users\\tomaas\\appdata\\local\\pip\\cache\\wheels\\72\\6b\\d5\\5548aa1b73b8c3d176ea13f9f92066b02e82141549d90e2100\n",
      "  Building wheel for pox (setup.py): started\n",
      "  Building wheel for pox (setup.py): finished with status 'done'\n",
      "  Created wheel for pox: filename=pox-0.2.8-py3-none-any.whl size=28343 sha256=8657b269e1c51ac28b20d7a56e0049c2ee2c2f1cd2976eed32452410084044be\n",
      "  Stored in directory: c:\\users\\tomaas\\appdata\\local\\pip\\cache\\wheels\\3d\\a8\\3a\\712ebffd829266bcb1be24c2617849960fd885aa5f81db07dd\n",
      "  Building wheel for multiprocess (setup.py): started\n",
      "  Building wheel for multiprocess (setup.py): finished with status 'done'\n",
      "  Created wheel for multiprocess: filename=multiprocess-0.70.10-py3-none-any.whl size=108192 sha256=2255fbb51cdfc40d736cfed8967743f953323696e6209843308d96f600eb7ba4\n",
      "  Stored in directory: c:\\users\\tomaas\\appdata\\local\\pip\\cache\\wheels\\69\\a0\\aa\\14379d16112299afa0b5f8464971648ea2a660a8f6aa1ca088\n",
      "Successfully built pathos ppft dill pox multiprocess\n",
      "Installing collected packages: ppft, dill, pox, multiprocess, pathos\n",
      "Successfully installed dill-0.3.2 multiprocess-0.70.10 pathos-0.2.6 pox-0.2.8 ppft-1.6.6.2\n",
      "Note: you may need to restart the kernel to use updated packages.\n"
     ]
    }
   ],
   "source": [
    "pip install pathos"
   ]
  },
  {
   "cell_type": "code",
   "execution_count": 4,
   "metadata": {},
   "outputs": [],
   "source": [
    "from pathos.multiprocessing import ProcessingPool as Pool"
   ]
  },
  {
   "cell_type": "code",
   "execution_count": null,
   "metadata": {},
   "outputs": [],
   "source": []
  }
 ],
 "metadata": {
  "kernelspec": {
   "display_name": "Python 3",
   "language": "python",
   "name": "python3"
  },
  "language_info": {
   "codemirror_mode": {
    "name": "ipython",
    "version": 3
   },
   "file_extension": ".py",
   "mimetype": "text/x-python",
   "name": "python",
   "nbconvert_exporter": "python",
   "pygments_lexer": "ipython3",
   "version": "3.7.6"
  }
 },
 "nbformat": 4,
 "nbformat_minor": 4
}
