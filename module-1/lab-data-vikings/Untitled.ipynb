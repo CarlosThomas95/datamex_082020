{
 "cells": [
  {
   "cell_type": "code",
   "execution_count": 1,
   "metadata": {},
   "outputs": [
    {
     "ename": "IndentationError",
     "evalue": "expected an indented block (<ipython-input-1-f61aa9fd3ad0>, line 34)",
     "output_type": "error",
     "traceback": [
      "\u001b[1;36m  File \u001b[1;32m\"<ipython-input-1-f61aa9fd3ad0>\"\u001b[1;36m, line \u001b[1;32m34\u001b[0m\n\u001b[1;33m    return (f'A Saxon has received {damage} points of damage')\u001b[0m\n\u001b[1;37m         ^\u001b[0m\n\u001b[1;31mIndentationError\u001b[0m\u001b[1;31m:\u001b[0m expected an indented block\n"
     ]
    }
   ],
   "source": [
    "# Soldier\n",
    "\n",
    "class Soldier:\n",
    "    def __init__(self, health, strength):\n",
    "        self.health = health\n",
    "        self.strength = strength\n",
    "    def attack(self):\n",
    "        return strength\n",
    "    def receiveDamage(self,damage):\n",
    "        health-=damage\n",
    "    pass\n",
    "\n",
    "# Viking\n",
    "\n",
    "class Viking(name,Soldier):\n",
    "    #def __init__(self,name):\n",
    "     #   self.name = name\n",
    "    def receiveDamage (self,damage):\n",
    "        health-=damage\n",
    "        if health > 0:\n",
    "            return (f'{name} has received {damage} points of damage')\n",
    "        else:\n",
    "            return (f'{name} has died in act of combat')\n",
    "    def battleCry (self):\n",
    "        return (f\"Odin Owns You All!\")\n",
    "    #pass\n",
    "\n",
    "# Saxon\n",
    "\n",
    "class Saxon(Soldier):\n",
    "    def receiveDamage (self,damage):\n",
    "        health-=damage\n",
    "        if health > 0:\n",
    "        return (f'A Saxon has received {damage} points of damage')\n",
    "        else:\n",
    "            return (f'A Saxon has died in act of combat')\n",
    "    pass\n",
    "\n",
    "# War\n",
    "\n",
    "class War:\n",
    "    pass\n"
   ]
  },
  {
   "cell_type": "code",
   "execution_count": null,
   "metadata": {},
   "outputs": [],
   "source": []
  }
 ],
 "metadata": {
  "kernelspec": {
   "display_name": "Python 3",
   "language": "python",
   "name": "python3"
  },
  "language_info": {
   "codemirror_mode": {
    "name": "ipython",
    "version": 3
   },
   "file_extension": ".py",
   "mimetype": "text/x-python",
   "name": "python",
   "nbconvert_exporter": "python",
   "pygments_lexer": "ipython3",
   "version": "3.7.6"
  }
 },
 "nbformat": 4,
 "nbformat_minor": 4
}
