{
 "cells": [
  {
   "cell_type": "code",
   "execution_count": 2,
   "metadata": {},
   "outputs": [],
   "source": [
    "import numpy as np"
   ]
  },
  {
   "cell_type": "code",
   "execution_count": 3,
   "metadata": {},
   "outputs": [
    {
     "name": "stdout",
     "output_type": "stream",
     "text": [
      "1.18.1\n"
     ]
    }
   ],
   "source": [
    "print (np.version.version)"
   ]
  },
  {
   "cell_type": "code",
   "execution_count": 4,
   "metadata": {},
   "outputs": [],
   "source": [
    "a = np.random.random((2,4,5))"
   ]
  },
  {
   "cell_type": "code",
   "execution_count": 5,
   "metadata": {},
   "outputs": [
    {
     "data": {
      "text/plain": [
       "array([[[0.96240124, 0.69257001, 0.61204961, 0.46382771, 0.95920753],\n",
       "        [0.05398043, 0.589886  , 0.49829508, 0.29219754, 0.2933152 ],\n",
       "        [0.62961794, 0.87063866, 0.45414157, 0.80041504, 0.08139007],\n",
       "        [0.5128348 , 0.9843796 , 0.18455971, 0.24022739, 0.95143458]],\n",
       "\n",
       "       [[0.22985078, 0.0607904 , 0.33054058, 0.07504005, 0.40502492],\n",
       "        [0.23807072, 0.43535535, 0.12904614, 0.9568874 , 0.3111717 ],\n",
       "        [0.07901322, 0.8099356 , 0.02383542, 0.40724714, 0.16120734],\n",
       "        [0.18387223, 0.01179518, 0.53250102, 0.39129051, 0.72766563]]])"
      ]
     },
     "execution_count": 5,
     "metadata": {},
     "output_type": "execute_result"
    }
   ],
   "source": [
    "a"
   ]
  },
  {
   "cell_type": "code",
   "execution_count": 6,
   "metadata": {},
   "outputs": [],
   "source": [
    "b = np.ones((5,4,2))"
   ]
  },
  {
   "cell_type": "code",
   "execution_count": 7,
   "metadata": {},
   "outputs": [
    {
     "data": {
      "text/plain": [
       "array([[[1., 1.],\n",
       "        [1., 1.],\n",
       "        [1., 1.],\n",
       "        [1., 1.]],\n",
       "\n",
       "       [[1., 1.],\n",
       "        [1., 1.],\n",
       "        [1., 1.],\n",
       "        [1., 1.]],\n",
       "\n",
       "       [[1., 1.],\n",
       "        [1., 1.],\n",
       "        [1., 1.],\n",
       "        [1., 1.]],\n",
       "\n",
       "       [[1., 1.],\n",
       "        [1., 1.],\n",
       "        [1., 1.],\n",
       "        [1., 1.]],\n",
       "\n",
       "       [[1., 1.],\n",
       "        [1., 1.],\n",
       "        [1., 1.],\n",
       "        [1., 1.]]])"
      ]
     },
     "execution_count": 7,
     "metadata": {},
     "output_type": "execute_result"
    }
   ],
   "source": [
    "b"
   ]
  },
  {
   "cell_type": "code",
   "execution_count": 8,
   "metadata": {},
   "outputs": [
    {
     "data": {
      "text/plain": [
       "False"
      ]
     },
     "execution_count": 8,
     "metadata": {},
     "output_type": "execute_result"
    }
   ],
   "source": [
    "b.shape == a.shape"
   ]
  },
  {
   "cell_type": "code",
   "execution_count": 9,
   "metadata": {},
   "outputs": [
    {
     "ename": "ValueError",
     "evalue": "operands could not be broadcast together with shapes (2,4,5) (5,4,2) ",
     "output_type": "error",
     "traceback": [
      "\u001b[1;31m---------------------------------------------------------------------------\u001b[0m",
      "\u001b[1;31mValueError\u001b[0m                                Traceback (most recent call last)",
      "\u001b[1;32m<ipython-input-9-d5ce9f282037>\u001b[0m in \u001b[0;36m<module>\u001b[1;34m\u001b[0m\n\u001b[1;32m----> 1\u001b[1;33m \u001b[0mnp\u001b[0m\u001b[1;33m.\u001b[0m\u001b[0madd\u001b[0m\u001b[1;33m(\u001b[0m\u001b[0ma\u001b[0m\u001b[1;33m,\u001b[0m\u001b[0mb\u001b[0m\u001b[1;33m)\u001b[0m\u001b[1;33m\u001b[0m\u001b[1;33m\u001b[0m\u001b[0m\n\u001b[0m",
      "\u001b[1;31mValueError\u001b[0m: operands could not be broadcast together with shapes (2,4,5) (5,4,2) "
     ]
    }
   ],
   "source": [
    "np.add(a,b)"
   ]
  },
  {
   "cell_type": "code",
   "execution_count": 10,
   "metadata": {},
   "outputs": [],
   "source": [
    "#Algebraicamente, la suma de matrices es aceptable solo entre matrices del mismo tamaño. "
   ]
  },
  {
   "cell_type": "code",
   "execution_count": 11,
   "metadata": {},
   "outputs": [],
   "source": [
    "c = b.T"
   ]
  },
  {
   "cell_type": "code",
   "execution_count": 12,
   "metadata": {},
   "outputs": [
    {
     "data": {
      "text/plain": [
       "array([[[1., 1., 1., 1., 1.],\n",
       "        [1., 1., 1., 1., 1.],\n",
       "        [1., 1., 1., 1., 1.],\n",
       "        [1., 1., 1., 1., 1.]],\n",
       "\n",
       "       [[1., 1., 1., 1., 1.],\n",
       "        [1., 1., 1., 1., 1.],\n",
       "        [1., 1., 1., 1., 1.],\n",
       "        [1., 1., 1., 1., 1.]]])"
      ]
     },
     "execution_count": 12,
     "metadata": {},
     "output_type": "execute_result"
    }
   ],
   "source": [
    "c"
   ]
  },
  {
   "cell_type": "code",
   "execution_count": 13,
   "metadata": {},
   "outputs": [],
   "source": [
    "d = np.add(a,c)"
   ]
  },
  {
   "cell_type": "code",
   "execution_count": 14,
   "metadata": {},
   "outputs": [
    {
     "data": {
      "text/plain": [
       "array([[[1.96240124, 1.69257001, 1.61204961, 1.46382771, 1.95920753],\n",
       "        [1.05398043, 1.589886  , 1.49829508, 1.29219754, 1.2933152 ],\n",
       "        [1.62961794, 1.87063866, 1.45414157, 1.80041504, 1.08139007],\n",
       "        [1.5128348 , 1.9843796 , 1.18455971, 1.24022739, 1.95143458]],\n",
       "\n",
       "       [[1.22985078, 1.0607904 , 1.33054058, 1.07504005, 1.40502492],\n",
       "        [1.23807072, 1.43535535, 1.12904614, 1.9568874 , 1.3111717 ],\n",
       "        [1.07901322, 1.8099356 , 1.02383542, 1.40724714, 1.16120734],\n",
       "        [1.18387223, 1.01179518, 1.53250102, 1.39129051, 1.72766563]]])"
      ]
     },
     "execution_count": 14,
     "metadata": {},
     "output_type": "execute_result"
    }
   ],
   "source": [
    "d"
   ]
  },
  {
   "cell_type": "code",
   "execution_count": 15,
   "metadata": {},
   "outputs": [],
   "source": [
    "e = a*c"
   ]
  },
  {
   "cell_type": "code",
   "execution_count": 16,
   "metadata": {},
   "outputs": [
    {
     "data": {
      "text/plain": [
       "array([[[0.96240124, 0.69257001, 0.61204961, 0.46382771, 0.95920753],\n",
       "        [0.05398043, 0.589886  , 0.49829508, 0.29219754, 0.2933152 ],\n",
       "        [0.62961794, 0.87063866, 0.45414157, 0.80041504, 0.08139007],\n",
       "        [0.5128348 , 0.9843796 , 0.18455971, 0.24022739, 0.95143458]],\n",
       "\n",
       "       [[0.22985078, 0.0607904 , 0.33054058, 0.07504005, 0.40502492],\n",
       "        [0.23807072, 0.43535535, 0.12904614, 0.9568874 , 0.3111717 ],\n",
       "        [0.07901322, 0.8099356 , 0.02383542, 0.40724714, 0.16120734],\n",
       "        [0.18387223, 0.01179518, 0.53250102, 0.39129051, 0.72766563]]])"
      ]
     },
     "execution_count": 16,
     "metadata": {},
     "output_type": "execute_result"
    }
   ],
   "source": [
    "e"
   ]
  },
  {
   "cell_type": "code",
   "execution_count": 17,
   "metadata": {},
   "outputs": [
    {
     "data": {
      "text/plain": [
       "array([[[ True,  True,  True,  True,  True],\n",
       "        [ True,  True,  True,  True,  True],\n",
       "        [ True,  True,  True,  True,  True],\n",
       "        [ True,  True,  True,  True,  True]],\n",
       "\n",
       "       [[ True,  True,  True,  True,  True],\n",
       "        [ True,  True,  True,  True,  True],\n",
       "        [ True,  True,  True,  True,  True],\n",
       "        [ True,  True,  True,  True,  True]]])"
      ]
     },
     "execution_count": 17,
     "metadata": {},
     "output_type": "execute_result"
    }
   ],
   "source": [
    "a == e"
   ]
  },
  {
   "cell_type": "code",
   "execution_count": 64,
   "metadata": {},
   "outputs": [
    {
     "ename": "NameError",
     "evalue": "name 'df' is not defined",
     "output_type": "error",
     "traceback": [
      "\u001b[1;31m---------------------------------------------------------------------------\u001b[0m",
      "\u001b[1;31mNameError\u001b[0m                                 Traceback (most recent call last)",
      "\u001b[1;32m<ipython-input-64-c3612c624a3f>\u001b[0m in \u001b[0;36m<module>\u001b[1;34m\u001b[0m\n\u001b[1;32m----> 1\u001b[1;33m \u001b[0mdf\u001b[0m\u001b[1;33m.\u001b[0m\u001b[0mmin\u001b[0m\u001b[1;33m(\u001b[0m\u001b[1;33m)\u001b[0m\u001b[1;33m\u001b[0m\u001b[1;33m\u001b[0m\u001b[0m\n\u001b[0m",
      "\u001b[1;31mNameError\u001b[0m: name 'df' is not defined"
     ]
    }
   ],
   "source": [
    "ºxºdf.min()"
   ]
  },
  {
   "cell_type": "code",
   "execution_count": 63,
   "metadata": {},
   "outputs": [
    {
     "name": "stdout",
     "output_type": "stream",
     "text": [
      "1.0117951847139288\n"
     ]
    }
   ],
   "source": [
    "d_min = d.min()\n",
    "print(d_min)"
   ]
  },
  {
   "cell_type": "code",
   "execution_count": 34,
   "metadata": {},
   "outputs": [
    {
     "name": "stdout",
     "output_type": "stream",
     "text": [
      "1.9843795951772734\n"
     ]
    }
   ],
   "source": [
    "d_max = d.max()\n",
    "print(d_max)"
   ]
  },
  {
   "cell_type": "code",
   "execution_count": 42,
   "metadata": {},
   "outputs": [
    {
     "name": "stdout",
     "output_type": "stream",
     "text": [
      "1.4406877763283776\n"
     ]
    }
   ],
   "source": [
    "d_mean = d.mean()\n",
    "print(d_mean)"
   ]
  },
  {
   "cell_type": "code",
   "execution_count": 46,
   "metadata": {},
   "outputs": [],
   "source": [
    "f = np.empty((2,4,5))"
   ]
  },
  {
   "cell_type": "code",
   "execution_count": 47,
   "metadata": {},
   "outputs": [
    {
     "data": {
      "text/plain": [
       "array([[[0.96240124, 0.69257001, 0.61204961, 0.46382771, 0.95920753],\n",
       "        [0.05398043, 0.589886  , 0.49829508, 0.29219754, 0.2933152 ],\n",
       "        [0.62961794, 0.87063866, 0.45414157, 0.80041504, 0.08139007],\n",
       "        [0.5128348 , 0.9843796 , 0.18455971, 0.24022739, 0.95143458]],\n",
       "\n",
       "       [[0.22985078, 0.0607904 , 0.33054058, 0.07504005, 0.40502492],\n",
       "        [0.23807072, 0.43535535, 0.12904614, 0.9568874 , 0.3111717 ],\n",
       "        [0.07901322, 0.8099356 , 0.02383542, 0.40724714, 0.16120734],\n",
       "        [0.18387223, 0.01179518, 0.53250102, 0.39129051, 0.72766563]]])"
      ]
     },
     "execution_count": 47,
     "metadata": {},
     "output_type": "execute_result"
    }
   ],
   "source": [
    "f"
   ]
  },
  {
   "cell_type": "code",
   "execution_count": 48,
   "metadata": {},
   "outputs": [],
   "source": [
    "for i in range(len(d)):\n",
    "    for j in range(len(d[1])):\n",
    "        for k in range(len(d[0][0])):\n",
    "            if d [i][j][k] > d_min and d [i][j][k] < d_mean:\n",
    "                f [i][j][k] = 25\n",
    "            elif d [i][j][k] > d_mean and d [i][j][k] < d_max:\n",
    "                f [i][j][k] = 75\n",
    "            elif d [i][j][k] == d_mean:\n",
    "                f [i][j][k] = 50\n",
    "            elif d [i][j][k] == d_min:\n",
    "                f [i][j][k] = 0\n",
    "            else: \n",
    "                f [i][j][k] = 100"
   ]
  },
  {
   "cell_type": "code",
   "execution_count": 49,
   "metadata": {},
   "outputs": [
    {
     "data": {
      "text/plain": [
       "array([[[ 75.,  75.,  75.,  75.,  75.],\n",
       "        [ 25.,  75.,  75.,  25.,  25.],\n",
       "        [ 75.,  75.,  75.,  75.,  25.],\n",
       "        [ 75., 100.,  25.,  25.,  75.]],\n",
       "\n",
       "       [[ 25.,  25.,  25.,  25.,  25.],\n",
       "        [ 25.,  25.,  25.,  75.,  25.],\n",
       "        [ 25.,  75.,  25.,  25.,  25.],\n",
       "        [ 25.,   0.,  75.,  25.,  75.]]])"
      ]
     },
     "execution_count": 49,
     "metadata": {},
     "output_type": "execute_result"
    }
   ],
   "source": [
    "f"
   ]
  },
  {
   "cell_type": "code",
   "execution_count": 50,
   "metadata": {},
   "outputs": [
    {
     "data": {
      "text/plain": [
       "array([[[1.96240124, 1.69257001, 1.61204961, 1.46382771, 1.95920753],\n",
       "        [1.05398043, 1.589886  , 1.49829508, 1.29219754, 1.2933152 ],\n",
       "        [1.62961794, 1.87063866, 1.45414157, 1.80041504, 1.08139007],\n",
       "        [1.5128348 , 1.9843796 , 1.18455971, 1.24022739, 1.95143458]],\n",
       "\n",
       "       [[1.22985078, 1.0607904 , 1.33054058, 1.07504005, 1.40502492],\n",
       "        [1.23807072, 1.43535535, 1.12904614, 1.9568874 , 1.3111717 ],\n",
       "        [1.07901322, 1.8099356 , 1.02383542, 1.40724714, 1.16120734],\n",
       "        [1.18387223, 1.01179518, 1.53250102, 1.39129051, 1.72766563]]])"
      ]
     },
     "execution_count": 50,
     "metadata": {},
     "output_type": "execute_result"
    }
   ],
   "source": [
    "d"
   ]
  },
  {
   "cell_type": "code",
   "execution_count": 57,
   "metadata": {},
   "outputs": [
    {
     "data": {
      "text/plain": [
       "[[[75.0, 75.0, 75.0, 75.0, 75.0],\n",
       "  [25.0, 75.0, 75.0, 25.0, 25.0],\n",
       "  [75.0, 75.0, 75.0, 75.0, 25.0],\n",
       "  [75.0, 100.0, 25.0, 25.0, 75.0]],\n",
       " [[25.0, 25.0, 25.0, 25.0, 25.0],\n",
       "  [25.0, 25.0, 25.0, 75.0, 25.0],\n",
       "  [25.0, 75.0, 25.0, 25.0, 25.0],\n",
       "  [25.0, 0.0, 75.0, 25.0, 75.0]]]"
      ]
     },
     "execution_count": 57,
     "metadata": {},
     "output_type": "execute_result"
    }
   ],
   "source": [
    "g = np.array(f).tolist()\n",
    "g"
   ]
  },
  {
   "cell_type": "code",
   "execution_count": 59,
   "metadata": {},
   "outputs": [],
   "source": [
    "for i in range(len(d)):\n",
    "    for j in range(len(d[1])):\n",
    "        for k in range(len(d[0][0])):\n",
    "            if d [i][j][k] > d_min and d [i][j][k] < d_mean:\n",
    "                g [i][j][k] = \"S\"\n",
    "            elif d [i][j][k] > d_mean and d [i][j][k] < d_max:\n",
    "                g [i][j][k] = \"D\"\n",
    "            elif d [i][j][k] == d_mean:\n",
    "                g [i][j][k] = \"F\"\n",
    "            elif d [i][j][k] == d_min:\n",
    "                g [i][j][k] = \"E\"\n",
    "            else: \n",
    "                g [i][j][k] = \"R\""
   ]
  },
  {
   "cell_type": "code",
   "execution_count": 61,
   "metadata": {},
   "outputs": [
    {
     "data": {
      "text/plain": [
       "[[['D', 'D', 'D', 'D', 'D'],\n",
       "  ['S', 'D', 'D', 'S', 'S'],\n",
       "  ['D', 'D', 'D', 'D', 'S'],\n",
       "  ['D', 'R', 'S', 'S', 'D']],\n",
       " [['S', 'S', 'S', 'S', 'S'],\n",
       "  ['S', 'S', 'S', 'D', 'S'],\n",
       "  ['S', 'D', 'S', 'S', 'S'],\n",
       "  ['S', 'E', 'D', 'S', 'D']]]"
      ]
     },
     "execution_count": 61,
     "metadata": {},
     "output_type": "execute_result"
    }
   ],
   "source": [
    "g"
   ]
  },
  {
   "cell_type": "code",
   "execution_count": null,
   "metadata": {},
   "outputs": [],
   "source": []
  }
 ],
 "metadata": {
  "kernelspec": {
   "display_name": "Python 3",
   "language": "python",
   "name": "python3"
  }
 },
 "nbformat": 4,
 "nbformat_minor": 4
}
